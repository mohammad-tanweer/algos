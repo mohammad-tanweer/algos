{
 "cells": [
  {
   "cell_type": "code",
   "execution_count": 1,
   "metadata": {
    "collapsed": true
   },
   "outputs": [],
   "source": [
    "def mergeKLists(self, lists):\n",
    "    ln1 = len(l1)\n",
    "    ln2 = len(l2)\n",
    "    sortedList = []\n",
    "    if ln1 > ln2:\n",
    "        setRange = ln2\n",
    "        list1 = l2\n",
    "        list2 = l1\n",
    "    elif ln1 < ln2:\n",
    "        setRange = ln1\n",
    "        list1 = l1\n",
    "        list2 = l2\n",
    "    else:\n",
    "        setRange = ln1\n",
    "        if l1[-1] < l2[-1]:\n",
    "            list1 = l1\n",
    "            list2 = l2\n",
    "        else:\n",
    "            list1 = l2\n",
    "            list2 = l1\n",
    "    for i in range(setRange):\n",
    "        if list1[i] < list2[0]:\n",
    "            sortedList.append(list1[i])\n",
    "        else:\n",
    "            j = 0\n",
    "            while j < len(list2):\n",
    "                if list2[j] < list1[i]:\n",
    "                    sortedList.append(list2[j])\n",
    "                    del list2[j]\n",
    "                else:\n",
    "                    sortedList.append(list1[i])\n",
    "                    j += 1\n",
    "                    break\n",
    "    sortedList = sortedList + list2\n",
    "    return sortedList"
   ]
  },
  {
   "cell_type": "code",
   "execution_count": 3,
   "metadata": {},
   "outputs": [
    {
     "name": "stdout",
     "output_type": "stream",
     "text": [
      "[0, 1, 2, 3, 4, 5, 6, 7, 7, 8]\n"
     ]
    }
   ],
   "source": [
    "l1 = [1, 2, 4, 6, 7]\n",
    "l2 = [0, 3, 5, 7, 8]\n",
    "print (mergeKLists(l1, l2))"
   ]
  },
  {
   "cell_type": "code",
   "execution_count": null,
   "metadata": {
    "collapsed": true
   },
   "outputs": [],
   "source": []
  }
 ],
 "metadata": {
  "kernelspec": {
   "display_name": "Python 2",
   "language": "python",
   "name": "python2"
  },
  "language_info": {
   "codemirror_mode": {
    "name": "ipython",
    "version": 2
   },
   "file_extension": ".py",
   "mimetype": "text/x-python",
   "name": "python",
   "nbconvert_exporter": "python",
   "pygments_lexer": "ipython2",
   "version": "2.7.14"
  }
 },
 "nbformat": 4,
 "nbformat_minor": 2
}
