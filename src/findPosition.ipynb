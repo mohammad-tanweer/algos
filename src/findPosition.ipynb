{
 "cells": [
  {
   "cell_type": "markdown",
   "metadata": {},
   "source": [
    "## Python Program to demonstrate working of an algorithm that finds an element in an array of infinite size "
   ]
  },
  {
   "cell_type": "code",
   "execution_count": 45,
   "metadata": {},
   "outputs": [],
   "source": [
    "# Binary search algorithm implementation \n",
    "import numpy as np\n",
    "def binary_search(arr,l,r,x):\n",
    "    if r >= l:\n",
    "        mid = l + int((r-l)/2)\n",
    "        if arr[mid] == x:\n",
    "            return mid\n",
    "        elif arr[mid] > x:\n",
    "            return binary_search(arr, l, mid-1, x)\n",
    "        else:\n",
    "            return binary_search(arr, mid+1, r, x)\n",
    "    return -1"
   ]
  },
  {
   "cell_type": "code",
   "execution_count": 46,
   "metadata": {},
   "outputs": [],
   "source": [
    "def findPos(a, key):\n",
    "    l, h, val = 0, 1, arr[0]\n",
    "    \n",
    "    # Find h to do binary search \n",
    "    while val < key: \n",
    "        l = h            #store previous high \n",
    "        h = 2*h          #double high index \n",
    "        val = arr[h]     #update new val \n",
    "  \n",
    "    # at this point we have updated low and high indices, \n",
    "    # thus use binary search between them \n",
    "    print (\"L: {}, H: {}\".format(l, h))\n",
    "    return binary_search(a, l, h, key)"
   ]
  },
  {
   "cell_type": "code",
   "execution_count": 48,
   "metadata": {},
   "outputs": [
    {
     "name": "stdout",
     "output_type": "stream",
     "text": [
      "L: 4, H: 8\n",
      "Element found at index: 7\n"
     ]
    }
   ],
   "source": [
    "arr = [3, 5, 7, 9, 10, 90, 100, 130, 140, 160, 170] \n",
    "ans = findPos(arr,130)\n",
    "if ans == -1: \n",
    "    print (\"Element not found\")\n",
    "else: \n",
    "    print (\"Element found at index: {}\".format(ans))"
   ]
  },
  {
   "cell_type": "code",
   "execution_count": null,
   "metadata": {},
   "outputs": [],
   "source": []
  },
  {
   "cell_type": "code",
   "execution_count": null,
   "metadata": {},
   "outputs": [],
   "source": []
  }
 ],
 "metadata": {
  "kernelspec": {
   "display_name": "Python 3",
   "language": "python",
   "name": "python3"
  },
  "language_info": {
   "codemirror_mode": {
    "name": "ipython",
    "version": 3
   },
   "file_extension": ".py",
   "mimetype": "text/x-python",
   "name": "python",
   "nbconvert_exporter": "python",
   "pygments_lexer": "ipython3",
   "version": "3.6.6"
  }
 },
 "nbformat": 4,
 "nbformat_minor": 2
}
